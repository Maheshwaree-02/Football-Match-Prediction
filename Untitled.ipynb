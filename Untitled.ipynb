{
 "cells": [
  {
   "cell_type": "code",
   "execution_count": 1,
   "id": "02a2f876",
   "metadata": {},
   "outputs": [],
   "source": [
    "import pandas as pd\n",
    "from sklearn.model_selection import train_test_split\n",
    "from sklearn.preprocessing import LabelEncoder\n",
    "from sklearn.ensemble import RandomForestClassifier\n",
    "import joblib\n",
    "from sklearn.metrics import confusion_matrix, classification_report, accuracy_score\n",
    "import warnings\n",
    "file_path = \"Football_data_Set.xlsx\"\n",
    "excel_data = pd.ExcelFile(file_path)\n",
    "matches_df = excel_data.parse('Matches')\n",
    "matches_df.columns = matches_df.columns.str.strip()\n",
    "\n",
    "label_encoders = {}\n",
    "for col in ['Team_1', 'Team_2', 'Place']:\n",
    "    le = LabelEncoder()\n",
    "    matches_df[col] = le.fit_transform(matches_df[col])\n",
    "    label_encoders[col] = le\n",
    "    "
   ]
  },
  {
   "cell_type": "code",
   "execution_count": 2,
   "id": "3a2e56b7",
   "metadata": {},
   "outputs": [],
   "source": [
    "X = matches_df[['Team_1', 'Team_2', 'Season', 'Place']]\n",
    "y = matches_df['Result']"
   ]
  },
  {
   "cell_type": "code",
   "execution_count": 3,
   "id": "552f543f",
   "metadata": {},
   "outputs": [],
   "source": [
    "X_train, X_test, y_train, y_test = train_test_split(X, y, test_size=0.2, random_state=42)"
   ]
  },
  {
   "cell_type": "code",
   "execution_count": 4,
   "id": "dba69010",
   "metadata": {},
   "outputs": [],
   "source": [
    "model = RandomForestClassifier(random_state=42)\n",
    "model.fit(X_train, y_train)\n",
    "y_pred = model.predict(X_test)\n"
   ]
  },
  {
   "cell_type": "code",
   "execution_count": 5,
   "id": "b8cbd0f5",
   "metadata": {},
   "outputs": [
    {
     "name": "stdout",
     "output_type": "stream",
     "text": [
      "Confusion Matrix:\n",
      "[[6 1]\n",
      " [1 4]]\n"
     ]
    }
   ],
   "source": [
    "cm = confusion_matrix(y_test, y_pred)\n",
    "print(\"Confusion Matrix:\")\n",
    "print(cm)"
   ]
  },
  {
   "cell_type": "code",
   "execution_count": 6,
   "id": "fd35c82b",
   "metadata": {},
   "outputs": [
    {
     "name": "stdout",
     "output_type": "stream",
     "text": [
      "\n",
      "Classification Report:\n",
      "              precision    recall  f1-score   support\n",
      "\n",
      "           1       0.86      0.86      0.86         7\n",
      "           2       0.80      0.80      0.80         5\n",
      "\n",
      "    accuracy                           0.83        12\n",
      "   macro avg       0.83      0.83      0.83        12\n",
      "weighted avg       0.83      0.83      0.83        12\n",
      "\n"
     ]
    },
    {
     "data": {
      "text/plain": [
       "['label_encoders.pkl']"
      ]
     },
     "execution_count": 6,
     "metadata": {},
     "output_type": "execute_result"
    }
   ],
   "source": [
    "print(\"\\nClassification Report:\")\n",
    "print(classification_report(y_test, y_pred))\n",
    "\n",
    "joblib.dump(model, 'football_match_winner_model.pkl')\n",
    "joblib.dump(label_encoders, 'label_encoders.pkl')"
   ]
  },
  {
   "cell_type": "code",
   "execution_count": 7,
   "id": "5360af2b",
   "metadata": {},
   "outputs": [
    {
     "name": "stdout",
     "output_type": "stream",
     "text": [
      "Target variable distribution:\n",
      "2    27\n",
      "1    27\n",
      "0     4\n",
      "Name: Result, dtype: int64\n"
     ]
    }
   ],
   "source": [
    "print(\"Target variable distribution:\")\n",
    "print(y.value_counts())"
   ]
  },
  {
   "cell_type": "code",
   "execution_count": 8,
   "id": "6e24f144",
   "metadata": {},
   "outputs": [
    {
     "name": "stdout",
     "output_type": "stream",
     "text": [
      "Random Forest Model Accuracy: 0.83\n",
      "Training Accuracy: 0.87\n",
      "Test Accuracy: 0.83\n"
     ]
    }
   ],
   "source": [
    "accuracy = accuracy_score(y_test, y_pred)\n",
    "print(f\"Random Forest Model Accuracy: {accuracy:.2f}\")\n",
    "train_acc = model.score(X_train, y_train)\n",
    "test_acc = model.score(X_test, y_test)\n",
    "print(f\"Training Accuracy: {train_acc:.2f}\")\n",
    "print(f\"Test Accuracy: {test_acc:.2f}\")"
   ]
  },
  {
   "cell_type": "code",
   "execution_count": 15,
   "id": "e98f71ae",
   "metadata": {},
   "outputs": [],
   "source": [
    "model = joblib.load(\"football_match_winner_model.pkl\")\n",
    "label_encoders = joblib.load(\"label_encoders.pkl\")"
   ]
  },
  {
   "cell_type": "code",
   "execution_count": 26,
   "id": "0474d007",
   "metadata": {},
   "outputs": [],
   "source": [
    "input_data = {\n",
    "    'Team_1': ['Arsenal'],\n",
    "    'Team_2': ['Mancity'],\n",
    "    'Season': [2021],\n",
    "    'Place': ['Away']\n",
    "}"
   ]
  },
  {
   "cell_type": "code",
   "execution_count": 27,
   "id": "ab9c6326",
   "metadata": {},
   "outputs": [],
   "source": [
    "df_input = pd.DataFrame(input_data)"
   ]
  },
  {
   "cell_type": "code",
   "execution_count": 28,
   "id": "5aee9033",
   "metadata": {},
   "outputs": [],
   "source": [
    "for col in ['Team_1', 'Team_2', 'Place']:\n",
    "    df_input[col] = label_encoders[col].transform(df_input[col])"
   ]
  },
  {
   "cell_type": "code",
   "execution_count": 29,
   "id": "be2cb315",
   "metadata": {},
   "outputs": [],
   "source": [
    "predicted_class = model.predict(df_input)[0]\n",
    "predicted_proba = model.predict_proba(df_input)[0]"
   ]
  },
  {
   "cell_type": "code",
   "execution_count": 30,
   "id": "5fc024dc",
   "metadata": {},
   "outputs": [
    {
     "name": "stdout",
     "output_type": "stream",
     "text": [
      "Prediction: Team 2 Wins\n",
      "Probability (Draw): 0.00%\n",
      "Probability (Team 1 Wins): 1.00%\n",
      "Probability (Team 2 Wins): 99.00%\n"
     ]
    }
   ],
   "source": [
    "if predicted_class == 0:\n",
    "    result = \"Draw\"\n",
    "elif predicted_class == 1:\n",
    "    result = \"Team 1 Wins\"\n",
    "else:\n",
    "    result = \"Team 2 Wins\"\n",
    "\n",
    "print(f\"Prediction: {result}\")\n",
    "print(f\"Probability (Draw): {predicted_proba[0]*100:.2f}%\")\n",
    "print(f\"Probability (Team 1 Wins): {predicted_proba[1]*100:.2f}%\")\n",
    "print(f\"Probability (Team 2 Wins): {predicted_proba[2]*100:.2f}%\")"
   ]
  },
  {
   "cell_type": "code",
   "execution_count": null,
   "id": "1dda49a0",
   "metadata": {},
   "outputs": [],
   "source": []
  },
  {
   "cell_type": "code",
   "execution_count": null,
   "id": "b8106138",
   "metadata": {},
   "outputs": [],
   "source": []
  }
 ],
 "metadata": {
  "kernelspec": {
   "display_name": "Python 3 (ipykernel)",
   "language": "python",
   "name": "python3"
  },
  "language_info": {
   "codemirror_mode": {
    "name": "ipython",
    "version": 3
   },
   "file_extension": ".py",
   "mimetype": "text/x-python",
   "name": "python",
   "nbconvert_exporter": "python",
   "pygments_lexer": "ipython3",
   "version": "3.9.7"
  }
 },
 "nbformat": 4,
 "nbformat_minor": 5
}
